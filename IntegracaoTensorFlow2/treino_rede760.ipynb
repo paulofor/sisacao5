{
    "cells": [
        {
            "cell_type": "markdown",
            "metadata": {},
            "outputs": [],
            "source": ["# Importacoes"]
        },
        {
            "cell_type": "code",
            "metadata": {},
            "outputs": [],
            "source": ["import tensorflow as tf\n"]
        },
        {
            "cell_type": "code",
            "metadata": {},
            "outputs": [],
            "source": ["print(tf.__version__)\n"]
        },
        {
            "cell_type": "code",
            "metadata": {},
            "outputs": [],
            "source": [
                "import requests\n",
                "import pandas as pd\n",
                "import numpy as np\n"
            ]
        },
        {
            "cell_type": "markdown",
            "metadata": {},
            "outputs": [],
            "source": ["# Conectando com servidor"]
        },
        {
            "cell_type": "code",
            "metadata": {},
            "outputs": [],
            "source": [
                "diaInicio = '20210301'\n",
                "diaFinal = '20220831'\n",
                "idGrupo = '12'\n",
                "idRegra = '102'\n",
                "idTipo = 'null'\n",
                "url = 'http://vps-40d69db1.vps.ovh.ca:23004/api/ExemploTreinoAcaoSaidas/listaParaTreino?diaNumInicio={}&diaNumFinal={}&idGrupoAcao={}&idRegraProjecao={}&idTipoExemplo={}'.format(diaInicio,diaFinal,idGrupo,idRegra,idTipo)\n"
            ]
        },
        {
            "cell_type": "code",
            "metadata": {},
            "outputs": [],
            "source": ["print(url)\n"]
        },
        {
            "cell_type": "code",
            "metadata": {},
            "outputs": [],
            "source": [
                "r = requests.get(url)\n",
                "j = r.json()\n",
                "df = pd.DataFrame.from_dict(j)\n"
            ]
        },
        {
            "cell_type": "code",
            "metadata": {},
            "outputs": [],
            "source": [
                "def trataLinhaX(linha):\n",
                "    return np.fromstring(linha['campoX'], dtype=float, sep=',')\n"
            ]
        },
        {
            "cell_type": "code",
            "metadata": {},
            "outputs": [],
            "source": [
                "dfTratadoX = df.apply(trataLinhaX, axis='columns')\n",
                "X = np.stack(dfTratadoX.values)\n",
                "X.shape\n"
            ]
        },
        {
            "cell_type": "code",
            "metadata": {},
            "outputs": [],
            "source": [
                "Y = np.stack(df['campoY'].values)\n",
                "Y = Y.reshape(-1,1)\n",
                "Y.shape\n"
            ]
        },
        {
            "cell_type": "markdown",
            "metadata": {},
            "outputs": [],
            "source": ["# Dados Validacao"]
        },
        {
            "cell_type": "code",
            "metadata": {},
            "outputs": [],
            "source": [
                "diaInicio = '20220831'\n",
                "diaFinal = '20220831'\n",
                "idGrupo = '12'\n",
                "idRegra = '102'\n",
                "idTipo = 'null'\n",
                "urlValida = 'http://vps-40d69db1.vps.ovh.ca:23004/api/ExemploTreinoAcaoSaidas/listaParaTreino?diaNumInicio={}&diaNumFinal={}&idGrupoAcao={}&idRegraProjecao={}&idTipoExemplo={}'.format(diaInicio,diaFinal,idGrupo,idRegra,idTipo)\n"
            ]
        },
        {
            "cell_type": "code",
            "metadata": {},
            "outputs": [],
            "source": ["print(urlValida)\n"]
        },
        {
            "cell_type": "code",
            "metadata": {},
            "outputs": [],
            "source": [
                "r = requests.get(urlValida)\n",
                "j = r.json()\n",
                "dfValida = pd.DataFrame.from_dict(j)\n"
            ]
        },
        {
            "cell_type": "code",
            "metadata": {},
            "outputs": [],
            "source": ["dfValida.head()\n"]
        },
        {
            "cell_type": "code",
            "metadata": {},
            "outputs": [],
            "source": [
                "dfTratadoValidaX = dfValida.apply(trataLinhaX, axis='columns')\n",
                "XValida = np.stack(dfTratadoValidaX.values)\n",
                "XValida.shape\n"
            ]
        },
        {
            "cell_type": "code",
            "metadata": {},
            "outputs": [],
            "source": [
                "YValida = np.stack(dfValida['campoY'].values)\n",
                "YValida = YValida.reshape(-1,1)\n",
                "YValida.shape\n"
            ]
        },
        {
            "cell_type": "markdown",
            "metadata": {},
            "outputs": [],
            "source": ["# Minha Rede"]
        },
        {
            "cell_type": "markdown",
            "metadata": {},
            "outputs": [],
            "source": ["## Estrutra"]
        },
        {
            "cell_type": "code",
            "metadata": {},
            "outputs": [],
            "source": [
                "entrada_principal = tf.keras.layers.Input(name='entrada_principal',shape=(300,1))\nconv_1_principal = tf.keras.layers.Conv1D(name='conv_1_principal',filters=64, kernel_size=3, activation='relu')(entrada_principal)\nconv_2_principal = tf.keras.layers.Conv1D(name='conv_2_principal',filters=64, kernel_size=3, activation='relu')(conv_1_principal)\ndropout_principal = tf.keras.layers.Dropout(name='dropout_principal',rate=0.5) (conv_2_principal)\npooling_principal = tf.keras.layers.MaxPooling1D(name='pooling_principal',pool_size=2) (dropout_principal)\nflatten_principal = tf.keras.layers.Flatten(name='flatten_principal') (pooling_principal)\ndense_principal = tf.keras.layers.Dense(name='dense_principal',units=100, activation='relu')(flatten_principal)\n\nentrada_secundaria = tf.keras.layers.Input(name='entrada_secundaria',shape=(900,1))\nconv_1_secundaria = tf.keras.layers.Conv1D(name='conv_1_secundaria',filters=64, kernel_size=3, activation='relu')(entrada_secundaria)\nconv_2_secundaria = tf.keras.layers.Conv1D(name='conv_2_secundaria',filters=64, kernel_size=3, activation='relu')(conv_1_secundaria)\ndropout_secundaria = tf.keras.layers.Dropout(name='dropout_secundaria',rate=0.5) (conv_2_secundaria)\npooling_secundaria = tf.keras.layers.MaxPooling1D(name='pooling_secundaria',pool_size=2) (dropout_secundaria)\nflatten_secundaria = tf.keras.layers.Flatten(name='flatten_secundaria') (pooling_secundaria)\ndense_secundaria = tf.keras.layers.Dense(name='dense_secundaria', units=100, activation='relu')(flatten_secundaria)\n\nconcat = tf.keras.layers.Concatenate(name='concat')([dense_principal, dense_secundaria])\noutput = tf.keras.layers.Dense(name='output',units=1, activation='sigmoid')(concat)\n\nmodel = tf.keras.Model(inputs=[entrada_principal, entrada_secundaria], outputs=[output])\n",
                "model.summary()\n"
            ]
        },
        {
            "cell_type": "markdown",
            "metadata": {},
            "outputs": [],
            "source": ["## Compilacao"]
        },
        {
            "cell_type": "code",
            "metadata": {},
            "outputs": [],
            "source": ["from tensorflow.keras.optimizers import RMSprop\n\nmodel.compile(loss='binary_crossentropy',\n                optimizer=RMSprop(learning_rate=1e-4),\n                metrics=['accuracy'])\n"]
        },
        {
            "cell_type": "markdown",
            "metadata": {},
            "outputs": [],
            "source": ["## Fit - Treino"]
        },
        {
            "cell_type": "code",
            "metadata": {},
            "outputs": [],
            "source": ["X_primaria =  X1[...,None]\nXValida_primaria =  XValida1[...,None]\n\nX_secundaria =  X2[...,None]\nXValida_secundaria =  XValida2[...,None]\n\nhistory = model.fit(x=[X_primaria,X_secundaria],\n                    y=Y, \n                    validation_data=([XValida_primaria,XValida_secundaria], YValida) ,\n                    epochs=100,\n                    verbose=2)\n"]
        },
        {
            "cell_type": "markdown",
            "metadata": {},
            "outputs": [],
            "source": ["## Salva Rede"]
        },
        {
            "cell_type": "code",
            "metadata": {},
            "outputs": [],
            "source": [
                "path='pesos/treino_rede760.h5'\n",
                "model.save(path)\n"
            ]
        },
        {
            "cell_type": "markdown",
            "metadata": {},
            "outputs": [],
            "source": ["# Enviando Rede"]
        },
        {
            "cell_type": "code",
            "metadata": {},
            "outputs": [],
            "source": ["!pip install paramiko\n"]
        },
        {
            "cell_type": "code",
            "metadata": {},
            "outputs": [],
            "source": [
                "import os\n",
                "import paramiko\n"
            ]
        },
        {
            "cell_type": "code",
            "metadata": {},
            "outputs": [],
            "source": [
                "ssh = paramiko.SSHClient()\n",
                "ssh.set_missing_host_key_policy(paramiko.AutoAddPolicy())\n",
                "ssh.connect(\"191.252.219.136\", username=\"root\", password=\"Digicom2004$\")\n",
                "sftp = ssh.open_sftp()\n",
                "sftp.put(\"pesos/treino_rede760.h5\", \"/root/executa-rede/redes/treino_rede760.h5\")\n",
                "sftp.close()\n",
                "ssh.close()\n"
            ]
        },
        {
            "cell_type": "markdown",
            "metadata": {},
            "outputs": [],
            "source": ["# Registra Treinamento"]
        },
        {
            "cell_type": "code",
            "metadata": {},
            "outputs": [],
            "source": [
                "#import requests\n",
                "url = 'http://vps-40d69db1.vps.ovh.ca:23004/api/TreinoRedes/executouTreinamento'\n",
                "myobj = {'id': 760}\n",
                "x = requests.post(url, json = myobj)\n",
                "print(x.text)\n"
            ]
        }
    ],
    "metadata": {
        "language_info": {"name": " "},
        "kernelspec": {
            "name": "python3",
            "language": "python",
            "display_name": "Python 3"
        }
    },
    "nbformat": 4,
    "nbformat_minor": 4
}
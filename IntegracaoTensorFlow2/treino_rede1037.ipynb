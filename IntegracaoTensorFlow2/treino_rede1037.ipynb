{
    "cells": [
        {
            "cell_type": "markdown",
            "metadata": {},
            "outputs": [],
            "source": ["# Importacoes"]
        },
        {
            "cell_type": "code",
            "metadata": {},
            "outputs": [],
            "source": ["import tensorflow as tf\n"]
        },
        {
            "cell_type": "code",
            "metadata": {},
            "outputs": [],
            "source": ["print(tf.__version__)\n"]
        },
        {
            "cell_type": "code",
            "metadata": {},
            "outputs": [],
            "source": [
                "import requests\n",
                "import pandas as pd\n",
                "import numpy as np\n"
            ]
        },
        {
            "cell_type": "markdown",
            "metadata": {},
            "outputs": [],
            "source": ["# Conectando com servidor"]
        },
        {
            "cell_type": "code",
            "metadata": {},
            "outputs": [],
            "source": [
                "diaInicio = '20230301'\n",
                "diaFinal = '20230531'\n",
                "idGrupo = '15'\n",
                "idRegra = '135'\n",
                "idTipo = 'null'\n",
                "url = 'http://vps-40d69db1.vps.ovh.ca:23004/api/ExemploTreinoAcaoSaidas/listaParaTreino?diaNumInicio={}&diaNumFinal={}&idGrupoAcao={}&idRegraProjecao={}&idTipoExemplo={}'.format(diaInicio,diaFinal,idGrupo,idRegra,idTipo)\n"
            ]
        },
        {
            "cell_type": "code",
            "metadata": {},
            "outputs": [],
            "source": ["print(url)\n"]
        },
        {
            "cell_type": "code",
            "metadata": {},
            "outputs": [],
            "source": [
                "r = requests.get(url)\n",
                "j = r.json()\n",
                "df = pd.DataFrame.from_dict(j)\n"
            ]
        },
        {
            "cell_type": "code",
            "metadata": {},
            "outputs": [],
            "source": [
                "def trataLinhaX(linha):\n",
                "    return np.fromstring(linha['campoX'], dtype=float, sep=',')\n"
            ]
        },
        {
            "cell_type": "code",
            "metadata": {},
            "outputs": [],
            "source": [
                "dfTratadoX = df.apply(trataLinhaX, axis='columns')\n",
                "X = np.stack(dfTratadoX.values)\n",
                "X.shape\n"
            ]
        },
        {
            "cell_type": "code",
            "metadata": {},
            "outputs": [],
            "source": [
                "Y = np.stack(df['campoY'].values)\n",
                "Y = Y.reshape(-1,1)\n",
                "Y.shape\n"
            ]
        },
        {
            "cell_type": "markdown",
            "metadata": {},
            "outputs": [],
            "source": ["# Dados Validacao"]
        },
        {
            "cell_type": "code",
            "metadata": {},
            "outputs": [],
            "source": [
                "diaInicio = '20230531'\n",
                "diaFinal = '20230531'\n",
                "idGrupo = '15'\n",
                "idRegra = '135'\n",
                "idTipo = 'null'\n",
                "urlValida = 'http://vps-40d69db1.vps.ovh.ca:23004/api/ExemploTreinoAcaoSaidas/listaParaTreino?diaNumInicio={}&diaNumFinal={}&idGrupoAcao={}&idRegraProjecao={}&idTipoExemplo={}'.format(diaInicio,diaFinal,idGrupo,idRegra,idTipo)\n"
            ]
        },
        {
            "cell_type": "code",
            "metadata": {},
            "outputs": [],
            "source": ["print(urlValida)\n"]
        },
        {
            "cell_type": "code",
            "metadata": {},
            "outputs": [],
            "source": [
                "r = requests.get(urlValida)\n",
                "j = r.json()\n",
                "dfValida = pd.DataFrame.from_dict(j)\n"
            ]
        },
        {
            "cell_type": "code",
            "metadata": {},
            "outputs": [],
            "source": ["dfValida.head()\n"]
        },
        {
            "cell_type": "code",
            "metadata": {},
            "outputs": [],
            "source": [
                "dfTratadoValidaX = dfValida.apply(trataLinhaX, axis='columns')\n",
                "XValida = np.stack(dfTratadoValidaX.values)\n",
                "XValida.shape\n"
            ]
        },
        {
            "cell_type": "code",
            "metadata": {},
            "outputs": [],
            "source": [
                "YValida = np.stack(dfValida['campoY'].values)\n",
                "YValida = YValida.reshape(-1,1)\n",
                "YValida.shape\n"
            ]
        },
        {
            "cell_type": "markdown",
            "metadata": {},
            "outputs": [],
            "source": ["# Minha Rede"]
        },
        {
            "cell_type": "markdown",
            "metadata": {},
            "outputs": [],
            "source": ["## Estrutra"]
        },
        {
            "cell_type": "code",
            "metadata": {},
            "outputs": [],
            "source": [
                "model = tf.keras.models.Sequential([\n    tf.keras.layers.LSTM(units=64, activation='tanh', kernel_initializer=tf.keras.initializers.HeUniform(), return_sequences=True, input_shape=(300,1)),\n    tf.keras.layers.LSTM(units=32, activation='tanh', kernel_initializer=tf.keras.initializers.HeUniform(), return_sequences=True),\n    tf.keras.layers.LSTM(units=16, activation='tanh', kernel_initializer=tf.keras.initializers.HeUniform()),\n    tf.keras.layers.Dense(units=1, activation='sigmoid', kernel_initializer=tf.keras.initializers.HeUniform())\n])\n",
                "model.summary()\n"
            ]
        },
        {
            "cell_type": "markdown",
            "metadata": {},
            "outputs": [],
            "source": ["## Compilacao"]
        },
        {
            "cell_type": "code",
            "metadata": {},
            "outputs": [],
            "source": ["optimizer = tf.keras.optimizers.Adam(learning_rate=0.001)\nmodel.compile(optimizer=optimizer, loss='binary_crossentropy',  metrics=['accuracy'])\n"]
        },
        {
            "cell_type": "markdown",
            "metadata": {},
            "outputs": [],
            "source": ["## Fit - Treino"]
        },
        {
            "cell_type": "code",
            "metadata": {},
            "outputs": [],
            "source": ["callback = tf.keras.callbacks.EarlyStopping(monitor='accuracy', patience=4)\nX2 = X.T\nX2 = X2[np.newaxis,...]\nhistory = model.fit(x=X2.T,y=Y,epochs=80,verbose=2,callbacks=[callback])\n\n"]
        },
        {
            "cell_type": "markdown",
            "metadata": {},
            "outputs": [],
            "source": ["## Salva Rede"]
        },
        {
            "cell_type": "code",
            "metadata": {},
            "outputs": [],
            "source": [
                "path='pesos/treino_rede1037.h5'\n",
                "model.save(path)\n"
            ]
        },
        {
            "cell_type": "markdown",
            "metadata": {},
            "outputs": [],
            "source": ["# Enviando Rede"]
        },
        {
            "cell_type": "code",
            "metadata": {},
            "outputs": [],
            "source": ["!pip install paramiko\n"]
        },
        {
            "cell_type": "code",
            "metadata": {},
            "outputs": [],
            "source": [
                "import os\n",
                "import paramiko\n"
            ]
        },
        {
            "cell_type": "code",
            "metadata": {},
            "outputs": [],
            "source": [
                "ssh = paramiko.SSHClient()\n",
                "ssh.set_missing_host_key_policy(paramiko.AutoAddPolicy())\n",
                "ssh.connect(\"191.252.219.136\", username=\"root\", password=\"Digicom2004$\")\n",
                "sftp = ssh.open_sftp()\n",
                "sftp.put(\"pesos/treino_rede1037.h5\", \"/root/executa-rede/redes/treino_rede1037.h5\")\n",
                "sftp.close()\n",
                "ssh.close()\n"
            ]
        },
        {
            "cell_type": "markdown",
            "metadata": {},
            "outputs": [],
            "source": ["# Registra Treinamento"]
        },
        {
            "cell_type": "code",
            "metadata": {},
            "outputs": [],
            "source": [
                "#import requests\n",
                "url = 'http://vps-40d69db1.vps.ovh.ca:23004/api/TreinoRedes/executouTreinamento'\n",
                "myobj = {'id': 1037}\n",
                "x = requests.post(url, json = myobj)\n",
                "print(x.text)\n"
            ]
        }
    ],
    "metadata": {
        "language_info": {"name": " "},
        "kernelspec": {
            "name": "python3",
            "language": "python",
            "display_name": "Python 3"
        }
    },
    "nbformat": 4,
    "nbformat_minor": 4
}
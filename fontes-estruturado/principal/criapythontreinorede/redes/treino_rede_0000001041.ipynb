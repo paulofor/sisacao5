{
    "cells": [
        {
            "cell_type": "markdown",
            "metadata": {},
            "outputs": [],
            "source": ["# Instalação"]
        },
        {
            "cell_type": "code",
            "metadata": {},
            "outputs": [],
            "source": [
                "import tensorflow as tf\n",
                "import pkg_resources\n",
                "\n",
                "required_version = '2.12.0'\n",
                "\n",
                "# Verificar se o TensorFlow já está instalado e obter a versão\n",
                "try:\n",
                "\tversion = pkg_resources.get_distribution(\"tensorflow\").version\n",
                "except pkg_resources.DistributionNotFound:\n",
                "\tversion = None\n",
                "\n",
                "# Verificar a versão e instalar se necessário\n",
                "if version is None or version != required_version:\n",
                "\tprint(f\"Instalando TensorFlow {required_version}...\")\n",
                "\t!pip install tensorflow=={required_version}\n",
                "else:\n",
                "\tprint(f\"Versão do TensorFlow {version} já está instalada.\")\n"
            ]
        },
        {
            "cell_type": "code",
            "metadata": {},
            "outputs": [],
            "source": [
                "import requests\n",
                "import pandas as pd\n",
                "import numpy as np\n"
            ]
        },
        {
            "cell_type": "markdown",
            "metadata": {},
            "outputs": [],
            "source": ["# Dados Treino Epimeteu1 (entrada 1) "]
        },
        {
            "cell_type": "code",
            "metadata": {},
            "outputs": [],
            "source": [
                "diaInicio = '20230301'\n",
                "diaFinal = '20230531'\n",
                "idGrupo = '15'\n",
                "idRegra = '137'\n",
                "idTipo = '5'\n",
                "url = 'http://vps-40d69db1.vps.ovh.ca:23004/api/ExemploTreinoAcaoSaidas/listaParaTreinoEntradaSaida?diaNumInicio={}&diaNumFinal={}&idGrupoAcao={}&idRegraProjecao={}&idTipoExemplo={}'.format(diaInicio,diaFinal,idGrupo,idRegra,idTipo)\n"
            ]
        },
        {
            "cell_type": "code",
            "metadata": {},
            "outputs": [],
            "source": ["print(url)\n"]
        },
        {
            "cell_type": "code",
            "metadata": {},
            "outputs": [],
            "source": [
                "r = requests.get(url)\n",
                "j = r.json()\n",
                "df = pd.DataFrame.from_dict(j)\n",
                "df.head()\n"
            ]
        },
        {
            "cell_type": "code",
            "metadata": {},
            "outputs": [],
            "source": [
                "dfTratadoX = df['campoX'].str.split(',').apply(lambda x: [float(val) for val in x])\n",
                "Entrada1 = np.stack(dfTratadoX.values)\n",
                "Entrada1.shape\n"
            ]
        },
        {
            "cell_type": "code",
            "metadata": {},
            "outputs": [],
            "source": [
                "Y = np.stack(df['campoY'].values)\n",
                "Saida1 = Y.reshape(-1,1).astype(int)\n",
                "Saida1.shape\n"
            ]
        },
        {
            "cell_type": "code",
            "metadata": {},
            "outputs": [],
            "source": [
                "# Verificar se há valores não numéricos\n",
                "has_non_numeric = np.isnan(Entrada1).any() or np.isinf(Entrada1).any()\n",
                "if has_non_numeric:\n",
                "    print(\"Entrada1 array contém valores não numéricos.\")\n",
                "else:\n",
                "    print(\"Entrada1 contém apenas valores numéricos.\")\n"
            ]
        },
        {
            "cell_type": "code",
            "metadata": {},
            "outputs": [],
            "source": [
                "# Verificar se há valores não numéricos\n",
                "has_non_numeric = np.issubdtype(Saida1.dtype, np.number) is False\n",
                "if has_non_numeric:\n",
                "    print(\"Saida1 contém valores não numéricos.\")\n",
                "else:\n",
                "    print(\"Saida1 contém apenas valores numéricos.\")\n"
            ]
        },
        {
            "cell_type": "markdown",
            "metadata": {},
            "outputs": [],
            "source": ["# Dados Treino Epimeteu1 (entrada 2) "]
        },
        {
            "cell_type": "code",
            "metadata": {},
            "outputs": [],
            "source": [
                "diaInicio = '20230301'\n",
                "diaFinal = '20230531'\n",
                "idGrupo = '15'\n",
                "idRegra = '137'\n",
                "idTipo = '2'\n",
                "url = 'http://vps-40d69db1.vps.ovh.ca:23004/api/ExemploTreinoAcaoSaidas/listaParaTreinoEntradaSaida?diaNumInicio={}&diaNumFinal={}&idGrupoAcao={}&idRegraProjecao={}&idTipoExemplo={}'.format(diaInicio,diaFinal,idGrupo,idRegra,idTipo)\n"
            ]
        },
        {
            "cell_type": "code",
            "metadata": {},
            "outputs": [],
            "source": ["print(url)\n"]
        },
        {
            "cell_type": "code",
            "metadata": {},
            "outputs": [],
            "source": [
                "r = requests.get(url)\n",
                "j = r.json()\n",
                "df = pd.DataFrame.from_dict(j)\n",
                "df.head()\n"
            ]
        },
        {
            "cell_type": "code",
            "metadata": {},
            "outputs": [],
            "source": [
                "dfTratadoX = df['campoX'].str.split(',').apply(lambda x: [float(val) for val in x])\n",
                "Entrada2 = np.stack(dfTratadoX.values)\n",
                "Entrada2.shape\n"
            ]
        },
        {
            "cell_type": "code",
            "metadata": {},
            "outputs": [],
            "source": [
                "Y = np.stack(df['campoY'].values)\n",
                "Saida2 = Y.reshape(-1,1).astype(int)\n",
                "Saida2.shape\n"
            ]
        },
        {
            "cell_type": "code",
            "metadata": {},
            "outputs": [],
            "source": [
                "# Verificar se há valores não numéricos\n",
                "has_non_numeric = np.isnan(Entrada2).any() or np.isinf(Entrada2).any()\n",
                "if has_non_numeric:\n",
                "    print(\"Entrada2 array contém valores não numéricos.\")\n",
                "else:\n",
                "    print(\"Entrada2 contém apenas valores numéricos.\")\n"
            ]
        },
        {
            "cell_type": "code",
            "metadata": {},
            "outputs": [],
            "source": [
                "# Verificar se há valores não numéricos\n",
                "has_non_numeric = np.issubdtype(Saida1.dtype, np.number) is False\n",
                "if has_non_numeric:\n",
                "    print(\"Saida2 contém valores não numéricos.\")\n",
                "else:\n",
                "    print(\"Saida2 contém apenas valores numéricos.\")\n"
            ]
        },
        {
            "cell_type": "markdown",
            "metadata": {},
            "outputs": [],
            "source": ["# Minha Rede"]
        },
        {
            "cell_type": "markdown",
            "metadata": {},
            "outputs": [],
            "source": ["## Estrutra"]
        },
        {
            "cell_type": "code",
            "metadata": {},
            "outputs": [],
            "source": [
                "entrada_principal = tf.keras.layers.Input(name='entrada_principal',shape=(150,1))\nlstm1_principal = tf.keras.layers.LSTM(name='lstm1_principal', units=64, activation='tanh', kernel_initializer=tf.keras.initializers.HeUniform(), return_sequences=True) (entrada_principal)\nflatten_principal = tf.keras.layers.Flatten(name='flatten_principal') (lstm1_principal)\ndense_principal = tf.keras.layers.Dense(name='dense_principal', units=64, activation='relu')(flatten_principal)\n\nentrada_secundaria = tf.keras.layers.Input(name='entrada_secundaria',shape=(600,1))\nlstm1_secundaria = tf.keras.layers.LSTM(name='lstm1_secundaria', units=256, activation='tanh', kernel_initializer=tf.keras.initializers.HeUniform(), return_sequences=True) (entrada_secundaria)\nlstm2_secundaria = tf.keras.layers.LSTM(name='lstm2_secundaria', units=128, activation='tanh', kernel_initializer=tf.keras.initializers.HeUniform(), return_sequences=True) (lstm1_secundaria)\nlstm3_secundaria = tf.keras.layers.LSTM(name='lstm3_secundaria', units=64, activation='tanh', kernel_initializer=tf.keras.initializers.HeUniform(), return_sequences=True) (lstm2_secundaria)\nflatten_secundaria = tf.keras.layers.Flatten(name='flatten_secundaria') (lstm3_secundaria)\ndense_secundaria = tf.keras.layers.Dense(name='dense_secundaria', units=64, activation='relu')(flatten_secundaria)\n\nconcat = tf.keras.layers.Concatenate(name='concat')([dense_principal, dense_secundaria])\noutput = tf.keras.layers.Dense(name='output',units=1, activation='sigmoid')(concat)\n\nmodel = tf.keras.Model(inputs=[entrada_principal, entrada_secundaria], outputs=[output])\n",
                "model.summary()\n"
            ]
        },
        {
            "cell_type": "markdown",
            "metadata": {},
            "outputs": [],
            "source": ["## Compilacao"]
        },
        {
            "cell_type": "code",
            "metadata": {},
            "outputs": [],
            "source": ["optimizer = tf.keras.optimizers.Adam(learning_rate=0.001)\nmodel.compile(optimizer=optimizer, loss='binary_crossentropy',  metrics=['accuracy'])\n"]
        },
        {
            "cell_type": "markdown",
            "metadata": {},
            "outputs": [],
            "source": ["## Fit - Treino"]
        },
        {
            "cell_type": "code",
            "metadata": {},
            "outputs": [],
            "source": ["\ncallback = tf.keras.callbacks.EarlyStopping(monitor='accuracy', patience=4)\nEnt1X2 = Entrada1.T\nEnt1X2 = Ent1X2[np.newaxis,...]\nEnt2X2 = Entrada2.T\nEnt2X2 = Ent2X2[np.newaxis,...]\n\nhistory = model.fit(x=[Ent1X2.T,Ent2X2.T],y=Y,epochs=80,verbose=2,callbacks=[callback])\n"]
        },
        {
            "cell_type": "markdown",
            "metadata": {},
            "outputs": [],
            "source": ["## Salva Rede"]
        },
        {
            "cell_type": "code",
            "metadata": {},
            "outputs": [],
            "source": [
                "path='pesos/treino_rede1041.h5'\n",
                "model.save(path)\n"
            ]
        },
        {
            "cell_type": "markdown",
            "metadata": {},
            "outputs": [],
            "source": ["# Enviando Rede"]
        },
        {
            "cell_type": "code",
            "metadata": {},
            "outputs": [],
            "source": ["!pip install paramiko\n"]
        },
        {
            "cell_type": "code",
            "metadata": {},
            "outputs": [],
            "source": [
                "import os\n",
                "import paramiko\n"
            ]
        },
        {
            "cell_type": "code",
            "metadata": {},
            "outputs": [],
            "source": [
                "ssh = paramiko.SSHClient()\n",
                "ssh.set_missing_host_key_policy(paramiko.AutoAddPolicy())\n",
                "ssh.connect(\"191.252.219.136\", username=\"root\", password=\"Digicom2004$\")\n",
                "sftp = ssh.open_sftp()\n",
                "sftp.put(\"pesos/treino_rede1041.h5\", \"/root/executa-rede/redes/treino_rede1041.h5\")\n",
                "sftp.close()\n",
                "ssh.close()\n"
            ]
        },
        {
            "cell_type": "markdown",
            "metadata": {},
            "outputs": [],
            "source": ["# Registra Treinamento"]
        },
        {
            "cell_type": "code",
            "metadata": {},
            "outputs": [],
            "source": [
                "#import requests\n",
                "url = 'http://vps-40d69db1.vps.ovh.ca:23004/api/TreinoRedes/executouTreinamento'\n",
                "myobj = {'id': 1041}\n",
                "x = requests.post(url, json = myobj)\n",
                "print(x.text)\n"
            ]
        }
    ],
    "metadata": {
        "language_info": {"name": " "},
        "kernelspec": {
            "name": "python3",
            "language": "python",
            "display_name": "Python 3"
        }
    },
    "nbformat": 4,
    "nbformat_minor": 4
}
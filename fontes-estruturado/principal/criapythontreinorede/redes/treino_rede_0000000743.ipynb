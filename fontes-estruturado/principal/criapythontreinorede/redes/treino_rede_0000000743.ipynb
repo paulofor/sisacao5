{
    "cells": [
        {
            "cell_type": "markdown",
            "metadata": {},
            "outputs": [],
            "source": ["# Instalação"]
        },
        {
            "cell_type": "code",
            "metadata": {},
            "outputs": [],
            "source": [
                "import tensorflow as tf\n",
                "import pkg_resources\n",
                "\n",
                "required_version = '2.12.0'\n",
                "\n",
                "# Verificar se o TensorFlow já está instalado e obter a versão\n",
                "try:\n",
                "\tversion = pkg_resources.get_distribution(\"tensorflow\").version\n",
                "except pkg_resources.DistributionNotFound:\n",
                "\tversion = None\n",
                "\n",
                "# Verificar a versão e instalar se necessário\n",
                "if version is None or version != required_version:\n",
                "\tprint(f\"Instalando TensorFlow {required_version}...\")\n",
                "\t!pip install tensorflow=={required_version}\n",
                "else:\n",
                "\tprint(f\"Versão do TensorFlow {version} já está instalada.\")\n"
            ]
        },
        {
            "cell_type": "code",
            "metadata": {},
            "outputs": [],
            "source": [
                "import requests\n",
                "import pandas as pd\n",
                "import numpy as np\n"
            ]
        },
        {
            "cell_type": "markdown",
            "metadata": {},
            "outputs": [],
            "source": ["# Dados Treino Herácles (entrada 1) "]
        },
        {
            "cell_type": "code",
            "metadata": {},
            "outputs": [],
            "source": [
                "diaInicio = '20210301'\n",
                "diaFinal = '20220831'\n",
                "idGrupo = '12'\n",
                "idRegra = '125'\n",
                "idTipo = '0'\n",
                "url = 'http://vps-40d69db1.vps.ovh.ca:23004/api/ExemploTreinoAcaoSaidas/listaParaTreinoEntradaSaida?diaNumInicio={}&diaNumFinal={}&idGrupoAcao={}&idRegraProjecao={}&idTipoExemplo={}'.format(diaInicio,diaFinal,idGrupo,idRegra,idTipo)\n"
            ]
        },
        {
            "cell_type": "code",
            "metadata": {},
            "outputs": [],
            "source": ["print(url)\n"]
        },
        {
            "cell_type": "code",
            "metadata": {},
            "outputs": [],
            "source": [
                "r = requests.get(url)\n",
                "j = r.json()\n",
                "df = pd.DataFrame.from_dict(j)\n",
                "df.head()\n"
            ]
        },
        {
            "cell_type": "code",
            "metadata": {},
            "outputs": [],
            "source": [
                "dfTratadoX = df['campoX'].str.split(',').apply(lambda x: [float(val) for val in x])\n",
                "Entrada1 = np.stack(dfTratadoX.values)\n",
                "Entrada1.shape\n"
            ]
        },
        {
            "cell_type": "code",
            "metadata": {},
            "outputs": [],
            "source": [
                "Y = np.stack(df['campoY'].values)\n",
                "Saida1 = Y.reshape(-1,1).astype(int)\n",
                "Saida1.shape\n"
            ]
        },
        {
            "cell_type": "code",
            "metadata": {},
            "outputs": [],
            "source": [
                "# Verificar se há valores não numéricos\n",
                "has_non_numeric = np.isnan(Entrada1).any() or np.isinf(Entrada1).any()\n",
                "if has_non_numeric:\n",
                "    print(\"Entrada1 array contém valores não numéricos.\")\n",
                "else:\n",
                "    print(\"Entrada1 contém apenas valores numéricos.\")\n"
            ]
        },
        {
            "cell_type": "code",
            "metadata": {},
            "outputs": [],
            "source": [
                "# Verificar se há valores não numéricos\n",
                "has_non_numeric = np.issubdtype(Saida1.dtype, np.number) is False\n",
                "if has_non_numeric:\n",
                "    print(\"Saida1 contém valores não numéricos.\")\n",
                "else:\n",
                "    print(\"Saida1 contém apenas valores numéricos.\")\n"
            ]
        },
        {
            "cell_type": "markdown",
            "metadata": {},
            "outputs": [],
            "source": ["# Minha Rede"]
        },
        {
            "cell_type": "markdown",
            "metadata": {},
            "outputs": [],
            "source": ["## Estrutra"]
        },
        {
            "cell_type": "code",
            "metadata": {},
            "outputs": [],
            "source": [
                "model = tf.keras.models.Sequential([\n    tf.keras.layers.LSTM(units=64, activation='tanh', kernel_initializer=tf.keras.initializers.HeUniform(), return_sequences=True, input_shape=(300,1)),\n    tf.keras.layers.LSTM(units=32, activation='tanh', kernel_initializer=tf.keras.initializers.HeUniform(), return_sequences=True),\n    tf.keras.layers.LSTM(units=16, activation='tanh', kernel_initializer=tf.keras.initializers.HeUniform()),\n    tf.keras.layers.Dense(units=1, activation='sigmoid', kernel_initializer=tf.keras.initializers.HeUniform())\n])\n",
                "model.summary()\n"
            ]
        },
        {
            "cell_type": "markdown",
            "metadata": {},
            "outputs": [],
            "source": ["## Compilacao"]
        },
        {
            "cell_type": "code",
            "metadata": {},
            "outputs": [],
            "source": ["optimizer = tf.keras.optimizers.Adam(learning_rate=0.001)\nmodel.compile(optimizer=optimizer, loss='binary_crossentropy',  metrics=['accuracy'])\n"]
        },
        {
            "cell_type": "markdown",
            "metadata": {},
            "outputs": [],
            "source": ["## Fit - Treino"]
        },
        {
            "cell_type": "code",
            "metadata": {},
            "outputs": [],
            "source": ["callback = tf.keras.callbacks.EarlyStopping(monitor='accuracy', patience=4)\n\nX2 = X.T\nX2 = X2[np.newaxis,...]\nhistory = model.fit(x=X2.T,y=Y,epochs=80,verbose=2,callbacks=[callback])\n"]
        },
        {
            "cell_type": "markdown",
            "metadata": {},
            "outputs": [],
            "source": ["## Salva Rede"]
        },
        {
            "cell_type": "code",
            "metadata": {},
            "outputs": [],
            "source": [
                "path='pesos/treino_rede743.h5'\n",
                "model.save(path)\n"
            ]
        },
        {
            "cell_type": "markdown",
            "metadata": {},
            "outputs": [],
            "source": ["# Enviando Rede"]
        },
        {
            "cell_type": "code",
            "metadata": {},
            "outputs": [],
            "source": ["!pip install paramiko\n"]
        },
        {
            "cell_type": "code",
            "metadata": {},
            "outputs": [],
            "source": [
                "import os\n",
                "import paramiko\n"
            ]
        },
        {
            "cell_type": "code",
            "metadata": {},
            "outputs": [],
            "source": [
                "ssh = paramiko.SSHClient()\n",
                "ssh.set_missing_host_key_policy(paramiko.AutoAddPolicy())\n",
                "ssh.connect(\"191.252.219.136\", username=\"root\", password=\"Digicom2004$\")\n",
                "sftp = ssh.open_sftp()\n",
                "sftp.put(\"pesos/treino_rede743.h5\", \"/root/executa-rede/redes/treino_rede743.h5\")\n",
                "sftp.close()\n",
                "ssh.close()\n"
            ]
        },
        {
            "cell_type": "markdown",
            "metadata": {},
            "outputs": [],
            "source": ["# Registra Treinamento"]
        },
        {
            "cell_type": "code",
            "metadata": {},
            "outputs": [],
            "source": [
                "#import requests\n",
                "url = 'http://vps-40d69db1.vps.ovh.ca:23004/api/TreinoRedes/executouTreinamento'\n",
                "myobj = {'id': 743}\n",
                "x = requests.post(url, json = myobj)\n",
                "print(x.text)\n"
            ]
        }
    ],
    "metadata": {
        "language_info": {"name": " "},
        "kernelspec": {
            "name": "python3",
            "language": "python",
            "display_name": "Python 3"
        }
    },
    "nbformat": 4,
    "nbformat_minor": 4
}